{
  "nbformat": 4,
  "nbformat_minor": 0,
  "metadata": {
    "colab": {
      "name": "Cópia de Python e seus pacotes.ipynb",
      "provenance": [],
      "include_colab_link": true
    },
    "kernelspec": {
      "name": "python3",
      "display_name": "Python 3"
    }
  },
  "cells": [
    {
      "cell_type": "markdown",
      "metadata": {
        "id": "view-in-github",
        "colab_type": "text"
      },
      "source": [
        "<a href=\"https://colab.research.google.com/github/clasenback/sigmoidal_data_science/blob/main/Python_e_seus_pacotes.ipynb\" target=\"_parent\"><img src=\"https://colab.research.google.com/assets/colab-badge.svg\" alt=\"Open In Colab\"/></a>"
      ]
    },
    {
      "cell_type": "markdown",
      "metadata": {
        "id": "SN0Tuw1iTzs0"
      },
      "source": [
        "## Cálculo"
      ]
    },
    {
      "cell_type": "code",
      "metadata": {
        "id": "T_t0FlhPUAdL"
      },
      "source": [
        "!pip install mlrose -q\n",
        "!pip install sympy -q"
      ],
      "execution_count": null,
      "outputs": []
    },
    {
      "cell_type": "code",
      "metadata": {
        "id": "0gRLj8EVVLXi",
        "colab": {
          "base_uri": "https://localhost:8080/"
        },
        "outputId": "eb34160f-e2ed-49df-bacf-22fb4d69203c"
      },
      "source": [
        "import sympy as sym\n",
        "from sympy import Symbol, solve, symbols\n",
        "from sympy import init_printing\n",
        "import mlrose\n",
        "import numpy as np\n",
        "\n",
        "init_printing()"
      ],
      "execution_count": null,
      "outputs": [
        {
          "output_type": "stream",
          "text": [
            "/usr/local/lib/python3.6/dist-packages/sklearn/externals/six.py:31: FutureWarning: The module is deprecated in version 0.21 and will be removed in version 0.23 since we've dropped support for Python 2.7. Please rely on the official version of six (https://pypi.org/project/six/).\n",
            "  \"(https://pypi.org/project/six/).\", FutureWarning)\n"
          ],
          "name": "stderr"
        }
      ]
    },
    {
      "cell_type": "code",
      "metadata": {
        "id": "auwjhQRFVKid",
        "colab": {
          "base_uri": "https://localhost:8080/",
          "height": 38
        },
        "outputId": "5a089146-6413-4116-d13c-b2faac337206"
      },
      "source": [
        "x = sym.Symbol('x')\n",
        "sym.diff(x**5)"
      ],
      "execution_count": null,
      "outputs": [
        {
          "output_type": "execute_result",
          "data": {
            "image/png": "[encoded data removed]",
            "text/latex": "$$5 x^{4}$$",
            "text/plain": [
              "   4\n",
              "5⋅x "
            ]
          },
          "metadata": {
            "tags": []
          },
          "execution_count": 4
        }
      ]
    },
    {
      "cell_type": "code",
      "metadata": {
        "id": "smPpVMHOVJ1q",
        "colab": {
          "base_uri": "https://localhost:8080/",
          "height": 38
        },
        "outputId": "ea31cd20-f72e-4c90-f848-05af47f3a2d6"
      },
      "source": [
        "x, y, z = symbols('x y z')\n",
        "\n",
        "### solving a quadratic equation:\n",
        "q = x**2 - 2*x + 7\n",
        "solve(q)\n",
        "\n",
        "# solving fpr one variable in terms of the other \n",
        "q = x ** 2 + y * x + z\n",
        "results = solve(q, x)\n",
        "\n",
        "# computing the results for a pair of y=2 and z=7 (same expression as above)\n",
        "[ret.subs({y: 2, z: 7}) for ret in results]"
      ],
      "execution_count": null,
      "outputs": [
        {
          "output_type": "execute_result",
          "data": {
            "image/png": "[encoded data removed]",
            "text/latex": "$$\\left [ -1 - \\sqrt{6} i, \\quad -1 + \\sqrt{6} i\\right ]$$",
            "text/plain": [
              "[-1 - √6⋅ⅈ, -1 + √6⋅ⅈ]"
            ]
          },
          "metadata": {
            "tags": []
          },
          "execution_count": 5
        }
      ]
    },
    {
      "cell_type": "markdown",
      "metadata": {
        "id": "3mayMB2mT1rm"
      },
      "source": [
        "## Otimização"
      ]
    },
    {
      "cell_type": "code",
      "metadata": {
        "id": "aju7q-NCWmmJ",
        "colab": {
          "base_uri": "https://localhost:8080/",
          "height": 53
        },
        "outputId": "f268cfeb-4285-4dbe-86b9-132bef7d1021"
      },
      "source": [
        "# Create list of city coordinates\n",
        "coords_list = [(1, 1), (4, 2), (5, 2), (6, 4), (4, 4), (3, 6), (1, 5), (2, 3)]\n",
        "\n",
        "# Initialize fitness function object using coords_list\n",
        "fitness_coords = mlrose.TravellingSales(coords = coords_list)\n",
        "\n",
        "# Define optimization problem object\n",
        "problem_fit = mlrose.TSPOpt(length = 8, fitness_fn = fitness_coords, maximize=False)\n",
        "\n",
        "# Create list of city coordinates\n",
        "coords_list = [(1, 1), (4, 2), (5, 2), (6, 4), (4, 4), (3, 6), (1, 5), (2, 3)]\n",
        "\n",
        "# Define optimization problem object\n",
        "problem_no_fit = mlrose.TSPOpt(length = 8, coords = coords_list, maximize=False)\n",
        "\n",
        "# Solve problem using the genetic algorithm\n",
        "best_state, best_fitness = mlrose.genetic_alg(problem_fit, random_state = 2)\n",
        "\n",
        "print(best_state)\n",
        "\n",
        "print(best_fitness)"
      ],
      "execution_count": null,
      "outputs": [
        {
          "output_type": "stream",
          "text": [
            "[1 3 4 5 6 7 0 2]\n",
            "18.89580466036301\n"
          ],
          "name": "stdout"
        }
      ]
    },
    {
      "cell_type": "code",
      "metadata": {
        "id": "CdlGoWxeXgLp"
      },
      "source": [
        ""
      ],
      "execution_count": null,
      "outputs": []
    }
  ]
}