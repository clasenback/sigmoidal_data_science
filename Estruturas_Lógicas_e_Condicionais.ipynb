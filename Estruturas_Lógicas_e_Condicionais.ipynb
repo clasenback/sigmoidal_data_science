{
  "nbformat": 4,
  "nbformat_minor": 0,
  "metadata": {
    "colab": {
      "name": "Cópia de 09 -  Python -  Estruturas Lógicas e Condicionais",
      "provenance": [],
      "collapsed_sections": [],
      "include_colab_link": true
    },
    "kernelspec": {
      "name": "python3",
      "display_name": "Python 3"
    }
  },
  "cells": [
    {
      "cell_type": "markdown",
      "metadata": {
        "id": "view-in-github",
        "colab_type": "text"
      },
      "source": [
        "<a href=\"https://colab.research.google.com/github/clasenback/sigmoidal_data_science/blob/main/Estruturas_L%C3%B3gicas_e_Condicionais.ipynb\" target=\"_parent\"><img src=\"https://colab.research.google.com/assets/colab-badge.svg\" alt=\"Open In Colab\"/></a>"
      ]
    },
    {
      "cell_type": "markdown",
      "metadata": {
        "id": "sZ5OjtVEoFUF"
      },
      "source": [
        "# Estruturas de Repetição e Condicionais\n",
        "\n",
        "Nesta aula, você irá aprender algumas das principais estruturas lógicas e condicionais, que irão agregar muitas funcionalidades para o seu código.\n",
        "\n",
        "Obviamente, as estruturas existentes são bem mais extensas que as apresentadas aqui. Porém, aqui você terá uma visão geral daquelas que fazem mais sentido neste momento, com foco sempre no curso Data Science na Prática.\n",
        "\n",
        "É importante ressaltar que a identação é muito importante aqui, pois podemos encontrar erros simplesmente por não ter feito a identação corretamente. Portanto, muita atenção ao criar essas estruturas."
      ]
    },
    {
      "cell_type": "markdown",
      "metadata": {
        "id": "mbfYlMXJoV-f"
      },
      "source": [
        "### If Statement\n",
        "\n",
        "Faz uma análise baseada em condições. Pode rodar ou pular frações de códigos, dependendo se a condição recebe um `True` ou `False`."
      ]
    },
    {
      "cell_type": "code",
      "metadata": {
        "id": "m7c_LRMxpCdB",
        "colab": {
          "base_uri": "https://localhost:8080/"
        },
        "outputId": "6dd63f15-77e0-45fa-b108-da6b4736982b"
      },
      "source": [
        "carlos = 35\n",
        "\n",
        "if carlos >= 18:\n",
        "    print(\"Pode comprar bebida.\")\n",
        "else:\n",
        "    print(\"Não pode comprar bebida.\")"
      ],
      "execution_count": null,
      "outputs": [
        {
          "output_type": "stream",
          "text": [
            "Pode comprar bebida.\n"
          ],
          "name": "stdout"
        }
      ]
    },
    {
      "cell_type": "code",
      "metadata": {
        "id": "0Bn4A19GpcL3",
        "colab": {
          "base_uri": "https://localhost:8080/"
        },
        "outputId": "f8779b23-bfe7-45d3-de2f-f58f97556d30"
      },
      "source": [
        "pedro = 17\n",
        "\n",
        "if pedro >= 18:\n",
        "    print(\"Pode comprar bebida.\")\n",
        "else:\n",
        "    print(\"Não pode comprar bebida.\")"
      ],
      "execution_count": null,
      "outputs": [
        {
          "output_type": "stream",
          "text": [
            "Não pode comprar bebida.\n"
          ],
          "name": "stdout"
        }
      ]
    },
    {
      "cell_type": "code",
      "metadata": {
        "id": "iTFHgrTvpeyU",
        "colab": {
          "base_uri": "https://localhost:8080/"
        },
        "outputId": "c2281775-8de3-495c-e22d-01556fa66590"
      },
      "source": [
        "carlos_idade = 35\n",
        "carlos_cnh = True\n",
        "carlos_pontos_cnh = 16\n",
        "\n",
        "if carlos_idade >= 18 and carlos_cnh and carlos_pontos_cnh < 20:\n",
        "    print(\"Pode alugar carro!\")\n",
        "else:\n",
        "    print(\"Não pode alugar carro.\")"
      ],
      "execution_count": null,
      "outputs": [
        {
          "output_type": "stream",
          "text": [
            "Pode alugar carro!\n"
          ],
          "name": "stdout"
        }
      ]
    },
    {
      "cell_type": "code",
      "metadata": {
        "id": "VnwUp9F9qSXZ",
        "colab": {
          "base_uri": "https://localhost:8080/"
        },
        "outputId": "a71ca608-59fa-47f9-c4ab-967c14823280"
      },
      "source": [
        "saldo = 100.00\n",
        "compra_efetuada = 25.90\n",
        "\n",
        "print(\"Saldo Inicial:\", saldo)\n",
        "if compra_efetuada:\n",
        "    saldo = saldo - compra_efetuada\n",
        "    print(\"Saldo Atual:\", saldo)"
      ],
      "execution_count": null,
      "outputs": [
        {
          "output_type": "stream",
          "text": [
            "Saldo Inicial: 100.0\n",
            "Saldo Atual: 74.1\n"
          ],
          "name": "stdout"
        }
      ]
    },
    {
      "cell_type": "markdown",
      "metadata": {
        "id": "yjmePENrrSmt"
      },
      "source": [
        "### For Loops\n",
        "\n",
        "Permite que você repita pedaçõs de códigos, evitando que você tenha que repetir códigos manualmente. Permite que você execute uma determinada ação até que uma determinada condição tenha sido atingida."
      ]
    },
    {
      "cell_type": "code",
      "metadata": {
        "id": "VcHnzvgJr1qO",
        "colab": {
          "base_uri": "https://localhost:8080/"
        },
        "outputId": "237e8556-3b7e-4be8-915e-d1da19da5324"
      },
      "source": [
        "for n in range(10):\n",
        "    print(n)"
      ],
      "execution_count": null,
      "outputs": [
        {
          "output_type": "stream",
          "text": [
            "0\n",
            "1\n",
            "2\n",
            "3\n",
            "4\n",
            "5\n",
            "6\n",
            "7\n",
            "8\n",
            "9\n"
          ],
          "name": "stdout"
        }
      ]
    },
    {
      "cell_type": "code",
      "metadata": {
        "id": "6UDVWn7erUKD",
        "colab": {
          "base_uri": "https://localhost:8080/"
        },
        "outputId": "0ca7b1a6-01a9-4bf5-cec3-26920c4d6f59"
      },
      "source": [
        "lista_convidados = [\"Carlos\", \"Fernanda\", \"Theo\", \"Snow\"]\n",
        "\n",
        "for a in lista_convidados:\n",
        "    print(a)"
      ],
      "execution_count": null,
      "outputs": [
        {
          "output_type": "stream",
          "text": [
            "Carlos\n",
            "Fernanda\n",
            "Theo\n",
            "Snow\n"
          ],
          "name": "stdout"
        }
      ]
    },
    {
      "cell_type": "code",
      "metadata": {
        "id": "I4meWtCjsEXA",
        "colab": {
          "base_uri": "https://localhost:8080/"
        },
        "outputId": "a203141a-fff9-404d-92ba-977e7c52bbb1"
      },
      "source": [
        "for i in range(11):\n",
        "    resultado = i * 9\n",
        "    print(\"9 x\", i, \"=\", resultado)"
      ],
      "execution_count": null,
      "outputs": [
        {
          "output_type": "stream",
          "text": [
            "9 x 0 = 0\n",
            "9 x 1 = 9\n",
            "9 x 2 = 18\n",
            "9 x 3 = 27\n",
            "9 x 4 = 36\n",
            "9 x 5 = 45\n",
            "9 x 6 = 54\n",
            "9 x 7 = 63\n",
            "9 x 8 = 72\n",
            "9 x 9 = 81\n",
            "9 x 10 = 90\n"
          ],
          "name": "stdout"
        }
      ]
    },
    {
      "cell_type": "markdown",
      "metadata": {
        "id": "X-utqQV7sVFK"
      },
      "source": [
        "### While Loops\n",
        "\n",
        "Similar ao `for` *loop*, o `while` *loop* cria uma repetição em cima de determinada ação. No entanto, enquanto no *for* nós indicávamos a quantidade de vezes que determinada ação deveria ser executada, o *while* continua repetindo uma ação até que determinada condição de parada seja atingida."
      ]
    },
    {
      "cell_type": "code",
      "metadata": {
        "id": "CJ_NljR_tE_p",
        "colab": {
          "base_uri": "https://localhost:8080/"
        },
        "outputId": "e5ed27fe-e8d1-42a4-c77b-5aa6ac8fc62f"
      },
      "source": [
        "saldo = 300.00\n",
        "preco_pizza = 80.50\n",
        "\n",
        "counter = 0\n",
        "while saldo > preco_pizza:\n",
        "    counter = counter + 1\n",
        "    saldo = saldo - preco_pizza\n",
        "\n",
        "print(\"Você comprou\", counter, \"pizzas!\")\n",
        "print(\"Saldo remanescente: R$\",saldo)"
      ],
      "execution_count": null,
      "outputs": [
        {
          "output_type": "stream",
          "text": [
            "Você comprou 3 pizzas!\n",
            "Saldo remanescente: R$ 58.5\n"
          ],
          "name": "stdout"
        }
      ]
    },
    {
      "cell_type": "code",
      "metadata": {
        "id": "6J9CfXKutysb",
        "colab": {
          "base_uri": "https://localhost:8080/"
        },
        "outputId": "cfacd7e9-c59b-4b36-b08e-37bc78f06b0f"
      },
      "source": [
        "validade_yakult = 10\n",
        "\n",
        "while validade_yakult > 0:\n",
        "    print(\"[+] Produto na validade. Faltam\", validade_yakult, \"dias.\")\n",
        "    validade_yakult -= 1\n",
        "\n",
        "print(\"[-] ATENÇÃO: Yogurt vencido. Faltam\", validade_yakult, \"dias.\")"
      ],
      "execution_count": null,
      "outputs": [
        {
          "output_type": "stream",
          "text": [
            "[+] Produto na validade. Faltam 10 dias.\n",
            "[+] Produto na validade. Faltam 9 dias.\n",
            "[+] Produto na validade. Faltam 8 dias.\n",
            "[+] Produto na validade. Faltam 7 dias.\n",
            "[+] Produto na validade. Faltam 6 dias.\n",
            "[+] Produto na validade. Faltam 5 dias.\n",
            "[+] Produto na validade. Faltam 4 dias.\n",
            "[+] Produto na validade. Faltam 3 dias.\n",
            "[+] Produto na validade. Faltam 2 dias.\n",
            "[+] Produto na validade. Faltam 1 dias.\n",
            "[-] ATENÇÃO: Yogurt vencido. Faltam 0 dias.\n"
          ],
          "name": "stdout"
        }
      ]
    },
    {
      "cell_type": "markdown",
      "metadata": {
        "id": "ObJ8s4032qQ_"
      },
      "source": [
        "## Exercícios\n",
        "Agora estamos prontos para colocar a mão na massa e criar algumas estruturas condicionais.\n"
      ]
    },
    {
      "cell_type": "markdown",
      "metadata": {
        "id": "v4NYJnMa467s"
      },
      "source": [
        "### Exercício 1\n",
        "Crie uma estrutura condicional para verificar se a pessoa pode alugar um carro."
      ]
    },
    {
      "cell_type": "code",
      "metadata": {
        "id": "CL0mJMXou1Pj",
        "colab": {
          "base_uri": "https://localhost:8080/"
        },
        "outputId": "6a1f4074-c268-4334-8648-bdf2a9e3395e"
      },
      "source": [
        "# resposta\r\n",
        "\r\n",
        "temDinheiro = False\r\n",
        "temCarteira = True\r\n",
        "idade = 19\r\n",
        "pontos = 18\r\n",
        "\r\n",
        "if temDinheiro or (temCarteira and idade >= 18 and pontos < 15):\r\n",
        "  print(\"Aluga\")\r\n",
        "else:\r\n",
        "  print(\"Desculpe amigo!\")"
      ],
      "execution_count": null,
      "outputs": [
        {
          "output_type": "stream",
          "text": [
            "Desculpe amigo!\n"
          ],
          "name": "stdout"
        }
      ]
    },
    {
      "cell_type": "code",
      "metadata": {
        "id": "F5SWy7g75skL",
        "cellView": "form",
        "colab": {
          "base_uri": "https://localhost:8080/"
        },
        "outputId": "b3d0d4cc-9e02-41da-c57a-1bfae12500c8"
      },
      "source": [
        "#@title Solução\n",
        "idade= 25\n",
        "cnh = True\n",
        "\n",
        "if idade >= 21 & cnh == True:\n",
        "  print(\"Você pode alugar um carro.\")\n",
        "else:\n",
        "  print(\"Você não pode alugar um carro.\")"
      ],
      "execution_count": null,
      "outputs": [
        {
          "output_type": "stream",
          "text": [
            "Você pode alugar um carro.\n"
          ],
          "name": "stdout"
        }
      ]
    },
    {
      "cell_type": "markdown",
      "metadata": {
        "id": "7uzqD0Gg7U01"
      },
      "source": [
        "### Exercício 2\n",
        "Crie uma lista com 5 elementos, e crie uma estrutura condicional para listar todos os items da lista."
      ]
    },
    {
      "cell_type": "code",
      "metadata": {
        "id": "wWADidSy6hMx",
        "colab": {
          "base_uri": "https://localhost:8080/"
        },
        "outputId": "0419a142-238f-4b02-b37d-fedd7604d262"
      },
      "source": [
        "# resposta\r\n",
        "minhaLista = [1, 3, 4, 7, 0]\r\n",
        "for n in minhaLista: \r\n",
        "  print(n)"
      ],
      "execution_count": null,
      "outputs": [
        {
          "output_type": "stream",
          "text": [
            "1\n",
            "3\n",
            "4\n",
            "7\n",
            "0\n"
          ],
          "name": "stdout"
        }
      ]
    },
    {
      "cell_type": "code",
      "metadata": {
        "id": "UbaRLJVS98Ib",
        "cellView": "form",
        "colab": {
          "base_uri": "https://localhost:8080/"
        },
        "outputId": "9c791339-46d9-4ece-b0e9-597251f02cf6"
      },
      "source": [
        "#@title Solução\n",
        "frutas = ['Banana', 'Laranja', 'Macã', 'Abacaxi', 'Morango']\n",
        "\n",
        "for i in frutas:\n",
        "  print(i)"
      ],
      "execution_count": null,
      "outputs": [
        {
          "output_type": "stream",
          "text": [
            "Banana\n",
            "Laranja\n",
            "Macã\n",
            "Abacaxi\n",
            "Morango\n"
          ],
          "name": "stdout"
        }
      ]
    },
    {
      "cell_type": "markdown",
      "metadata": {
        "id": "PQwcMhc2_afi"
      },
      "source": [
        "### Exercício 3\n",
        "Crie uma estrutura condicional para calcular os dias até o final do mês."
      ]
    },
    {
      "cell_type": "code",
      "metadata": {
        "id": "6tHJEBelwENf"
      },
      "source": [
        "# resposta"
      ],
      "execution_count": null,
      "outputs": []
    },
    {
      "cell_type": "code",
      "metadata": {
        "id": "iIB8Zjag_q3r",
        "cellView": "form",
        "colab": {
          "base_uri": "https://localhost:8080/"
        },
        "outputId": "de271096-2c76-4f97-fbc5-1686e7fcff52"
      },
      "source": [
        "#@title Solução\n",
        "dia_mes = 30\n",
        "\n",
        "while dia_mes > 0:\n",
        "    print(\"Faltam\", dia_mes, \"dias.\")\n",
        "    dia_mes -= 1\n",
        "\n",
        "print(\"Fim do mês! Faltam\", dia_mes, \"dias.\")"
      ],
      "execution_count": null,
      "outputs": [
        {
          "output_type": "stream",
          "text": [
            "Faltam 30 dias.\n",
            "Faltam 29 dias.\n",
            "Faltam 28 dias.\n",
            "Faltam 27 dias.\n",
            "Faltam 26 dias.\n",
            "Faltam 25 dias.\n",
            "Faltam 24 dias.\n",
            "Faltam 23 dias.\n",
            "Faltam 22 dias.\n",
            "Faltam 21 dias.\n",
            "Faltam 20 dias.\n",
            "Faltam 19 dias.\n",
            "Faltam 18 dias.\n",
            "Faltam 17 dias.\n",
            "Faltam 16 dias.\n",
            "Faltam 15 dias.\n",
            "Faltam 14 dias.\n",
            "Faltam 13 dias.\n",
            "Faltam 12 dias.\n",
            "Faltam 11 dias.\n",
            "Faltam 10 dias.\n",
            "Faltam 9 dias.\n",
            "Faltam 8 dias.\n",
            "Faltam 7 dias.\n",
            "Faltam 6 dias.\n",
            "Faltam 5 dias.\n",
            "Faltam 4 dias.\n",
            "Faltam 3 dias.\n",
            "Faltam 2 dias.\n",
            "Faltam 1 dias.\n",
            "Fim do mês! Faltam 0 dias.\n"
          ],
          "name": "stdout"
        }
      ]
    },
    {
      "cell_type": "code",
      "metadata": {
        "id": "azptzq2QAm5X"
      },
      "source": [
        ""
      ],
      "execution_count": null,
      "outputs": []
    }
  ]
}