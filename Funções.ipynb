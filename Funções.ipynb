{
  "nbformat": 4,
  "nbformat_minor": 0,
  "metadata": {
    "colab": {
      "name": "Cópia de Funções.ipynb",
      "provenance": [],
      "include_colab_link": true
    },
    "kernelspec": {
      "name": "python3",
      "display_name": "Python 3"
    }
  },
  "cells": [
    {
      "cell_type": "markdown",
      "metadata": {
        "id": "view-in-github",
        "colab_type": "text"
      },
      "source": [
        "<a href=\"https://colab.research.google.com/github/clasenback/sigmoidal_data_science/blob/main/Fun%C3%A7%C3%B5es.ipynb\" target=\"_parent\"><img src=\"https://colab.research.google.com/assets/colab-badge.svg\" alt=\"Open In Colab\"/></a>"
      ]
    },
    {
      "cell_type": "code",
      "metadata": {
        "id": "1LgKXX7wiftk",
        "colab": {
          "base_uri": "https://localhost:8080/"
        },
        "outputId": "67fb9d4b-738c-4dec-d392-13d5eb51ffcf"
      },
      "source": [
        "a = 34\n",
        "\n",
        "def imprimir_variavel():\n",
        "    a = 12\n",
        "    print(a)\n",
        "\n",
        "print(a)\n",
        "imprimir_variavel()\n",
        "print(a)"
      ],
      "execution_count": null,
      "outputs": [
        {
          "output_type": "stream",
          "text": [
            "34\n",
            "12\n",
            "34\n"
          ],
          "name": "stdout"
        }
      ]
    },
    {
      "cell_type": "code",
      "metadata": {
        "id": "mutr-TnKlbjv"
      },
      "source": [
        "def elevar_quadrado(numero):\n",
        "    resultado = numero ** 2\n",
        "    return resultado"
      ],
      "execution_count": null,
      "outputs": []
    },
    {
      "cell_type": "code",
      "metadata": {
        "id": "VncsKQcelbba"
      },
      "source": [
        "meu_valor_calculado = elevar_quadrado(5)"
      ],
      "execution_count": null,
      "outputs": []
    },
    {
      "cell_type": "code",
      "metadata": {
        "id": "4NrlrFTXiuRv"
      },
      "source": [
        "meu_valor_calculado"
      ],
      "execution_count": null,
      "outputs": []
    },
    {
      "cell_type": "code",
      "metadata": {
        "id": "zJrljEQljOI4"
      },
      "source": [
        "def calcular():\n",
        "    a = 2\n",
        "    b = 3\n",
        "\n",
        "    soma = a + b\n",
        "    \n",
        "    print(soma)\n",
        "\n",
        "calcular()\n",
        "\n",
        "print(soma)"
      ],
      "execution_count": null,
      "outputs": []
    },
    {
      "cell_type": "code",
      "metadata": {
        "id": "Ze7f6M1un6vF"
      },
      "source": [
        "def verificar_motorista(idade, cnh):\n",
        "    verificacao = (idade >= 18) and (cnh)\n",
        "    return verificacao"
      ],
      "execution_count": null,
      "outputs": []
    },
    {
      "cell_type": "code",
      "metadata": {
        "id": "KkVXbxcUoSW0",
        "colab": {
          "base_uri": "https://localhost:8080/",
          "height": 35
        },
        "outputId": "4fcc8a65-c527-4705-f792-a622cbf2f364"
      },
      "source": [
        "verificar_motorista(23, True)"
      ],
      "execution_count": null,
      "outputs": [
        {
          "output_type": "execute_result",
          "data": {
            "text/plain": [
              "True"
            ]
          },
          "metadata": {
            "tags": []
          },
          "execution_count": 22
        }
      ]
    },
    {
      "cell_type": "code",
      "metadata": {
        "id": "_yGpKgN1on_t"
      },
      "source": [
        "elevar = lambda x: x ** 2 "
      ],
      "execution_count": null,
      "outputs": []
    },
    {
      "cell_type": "code",
      "metadata": {
        "id": "2ukm14FIo6u3",
        "colab": {
          "base_uri": "https://localhost:8080/",
          "height": 35
        },
        "outputId": "1bfca4c6-48b2-434b-ebfe-1e99b4bf68c4"
      },
      "source": [
        "elevar(5)"
      ],
      "execution_count": null,
      "outputs": [
        {
          "output_type": "execute_result",
          "data": {
            "text/plain": [
              "25"
            ]
          },
          "metadata": {
            "tags": []
          },
          "execution_count": 30
        }
      ]
    },
    {
      "cell_type": "code",
      "metadata": {
        "id": "BkQNTFBKpG5P"
      },
      "source": [
        "df.colunaA.apply(lambda x: x ** 2)"
      ],
      "execution_count": null,
      "outputs": []
    },
    {
      "cell_type": "code",
      "metadata": {
        "id": "xPxQ3AqhtqzB"
      },
      "source": [
        "from pandas import read_csv"
      ],
      "execution_count": null,
      "outputs": []
    },
    {
      "cell_type": "code",
      "metadata": {
        "id": "qkDutdhzuRTe"
      },
      "source": [
        "df = read_csv(\"http://dl.dropboxusercontent.com/s/xn2a4kzf0zer0xu/acquisition_train.csv?dl=0\",)"
      ],
      "execution_count": null,
      "outputs": []
    },
    {
      "cell_type": "code",
      "metadata": {
        "id": "asuB_eB2uTro"
      },
      "source": [
        ""
      ],
      "execution_count": null,
      "outputs": []
    },
    {
      "cell_type": "markdown",
      "metadata": {
        "id": "oTvA852NjURa"
      },
      "source": [
        "# Exercícios"
      ]
    },
    {
      "cell_type": "markdown",
      "metadata": {
        "id": "UpGkAmmimHrp"
      },
      "source": [
        "**Escreva uma função que imprima o seu nome na tela**"
      ]
    },
    {
      "cell_type": "code",
      "metadata": {
        "id": "XFPNg56JmOYC"
      },
      "source": [
        ""
      ],
      "execution_count": null,
      "outputs": []
    },
    {
      "cell_type": "code",
      "metadata": {
        "id": "gIusTVv1mPG6",
        "cellView": "form"
      },
      "source": [
        "#@title\n",
        "def imprimir_nome():\n",
        "    print(\"Nome de Sobrenome\")\n",
        "\n",
        "\n",
        "imprimir_nome()"
      ],
      "execution_count": null,
      "outputs": []
    },
    {
      "cell_type": "markdown",
      "metadata": {
        "id": "s4GrKFUfmTiX"
      },
      "source": [
        "**Escreva uma função que some 3 números informados no argumento**"
      ]
    },
    {
      "cell_type": "code",
      "metadata": {
        "id": "fFYW3uYem-aJ"
      },
      "source": [
        ""
      ],
      "execution_count": null,
      "outputs": []
    },
    {
      "cell_type": "code",
      "metadata": {
        "id": "Z-KVUcyDmZxM",
        "cellView": "form"
      },
      "source": [
        "#@title\n",
        "def somar_numeros(a, b, c):\n",
        "    resultado = a + b + c\n",
        "    return resultado\n",
        "\n",
        "\n",
        "somar_numeros(4, 8, 1)"
      ],
      "execution_count": null,
      "outputs": []
    },
    {
      "cell_type": "markdown",
      "metadata": {
        "id": "zKxdbAnymutN"
      },
      "source": [
        "**Escreva uma função que retorne o tamanho de qualquer palavra**"
      ]
    },
    {
      "cell_type": "code",
      "metadata": {
        "id": "HPGgm11bm9oD"
      },
      "source": [
        ""
      ],
      "execution_count": null,
      "outputs": []
    },
    {
      "cell_type": "code",
      "metadata": {
        "id": "BTeKehB5nCgx",
        "cellView": "form"
      },
      "source": [
        "#@title\n",
        "def tamanho_string(palavra):\n",
        "    return len(palavra)\n",
        "\n",
        "\n",
        "tamanho_string(\"Teste de funcao\")"
      ],
      "execution_count": null,
      "outputs": []
    },
    {
      "cell_type": "markdown",
      "metadata": {
        "id": "Y1lEKQTonNCC"
      },
      "source": [
        "**Escreva uma função que verifica se alguém é maior de 18 anos e se possui habilitação.**"
      ]
    },
    {
      "cell_type": "code",
      "metadata": {
        "id": "ZqDlYl3NnXSO"
      },
      "source": [
        ""
      ],
      "execution_count": null,
      "outputs": []
    },
    {
      "cell_type": "code",
      "metadata": {
        "id": "m5JNjOQ5nXj0",
        "cellView": "form"
      },
      "source": [
        "#@title\n",
        "def checar_motorista(idade, cnh):\n",
        "    verificacao = (idade >= 18) and (cnh)\n",
        "    return verificacao\n",
        "\n",
        "\n",
        "checar_motorista(23, False)"
      ],
      "execution_count": null,
      "outputs": []
    }
  ]
}