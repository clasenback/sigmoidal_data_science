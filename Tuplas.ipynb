{
  "nbformat": 4,
  "nbformat_minor": 0,
  "metadata": {
    "colab": {
      "name": "Cópia de Tuplas",
      "provenance": [],
      "include_colab_link": true
    },
    "kernelspec": {
      "name": "python3",
      "display_name": "Python 3"
    }
  },
  "cells": [
    {
      "cell_type": "markdown",
      "metadata": {
        "id": "view-in-github",
        "colab_type": "text"
      },
      "source": [
        "<a href=\"https://colab.research.google.com/github/clasenback/sigmoidal_data_science/blob/main/Tuplas.ipynb\" target=\"_parent\"><img src=\"https://colab.research.google.com/assets/colab-badge.svg\" alt=\"Open In Colab\"/></a>"
      ]
    },
    {
      "cell_type": "markdown",
      "metadata": {
        "id": "EO0cXXy93Aid"
      },
      "source": [
        "# Tuplas\n",
        "\n",
        "Tuplas são um outro tipo de estrutura, porém é uma estrutura voltada a sequência ordenada de itens imutáveis.\n",
        "\n",
        "Normalmente, são utilizadas para armazenar pedaços de informações que estejam relacionadas.\n",
        "\n",
        "Podem ser acessadas pelo índice, porém não podem ser mudadas. Ou seja, você não consegue alterar, adicionar ou remover itens delas."
      ]
    },
    {
      "cell_type": "code",
      "metadata": {
        "id": "MkugBG8j3iiA"
      },
      "source": [
        "teste = ()"
      ],
      "execution_count": null,
      "outputs": []
    },
    {
      "cell_type": "code",
      "metadata": {
        "id": "BcDid6np3kZv",
        "colab": {
          "base_uri": "https://localhost:8080/"
        },
        "outputId": "25bbd72a-f9cf-4cff-8048-66be1ccb9ded"
      },
      "source": [
        "type(teste)"
      ],
      "execution_count": null,
      "outputs": [
        {
          "output_type": "execute_result",
          "data": {
            "text/plain": [
              "tuple"
            ]
          },
          "metadata": {
            "tags": []
          },
          "execution_count": 2
        }
      ]
    },
    {
      "cell_type": "markdown",
      "metadata": {
        "id": "ucLboMzRrCAr"
      },
      "source": [
        "Ao criar uma tupla, precisamos levar em consideração que é necessário inserir uma vírgula, mesmo que o intuito seja criar uma lista com um único valor.\n",
        "\n",
        "Já que o Python também entende parênteses como operadores matemáticos, caso tentemos criar uma tupla com um valor sem a vírgula, o Python irá entendê-lo como um objeto do tipo `int`.\n",
        "\n",
        "Apesar dessa não ser uma operação comum, agora você saberá como proceder caso seja necessário."
      ]
    },
    {
      "cell_type": "code",
      "metadata": {
        "id": "WT0C8zfIrWZF",
        "colab": {
          "base_uri": "https://localhost:8080/"
        },
        "outputId": "b00b829c-1731-4848-a3cb-ebb225667cac"
      },
      "source": [
        "# tentando criar uma tupla sem vírgula\n",
        "t = (2)\n",
        "type(t)"
      ],
      "execution_count": null,
      "outputs": [
        {
          "output_type": "execute_result",
          "data": {
            "text/plain": [
              "int"
            ]
          },
          "metadata": {
            "tags": []
          },
          "execution_count": 3
        }
      ]
    },
    {
      "cell_type": "code",
      "metadata": {
        "id": "y5p-_WWWrWTq",
        "colab": {
          "base_uri": "https://localhost:8080/"
        },
        "outputId": "fc2b7043-1d46-4c9c-f0bc-449fef4d1db7"
      },
      "source": [
        "# criando tupla de um valor, com a vírgula\n",
        "t = (2,)\n",
        "type(t)"
      ],
      "execution_count": null,
      "outputs": [
        {
          "output_type": "execute_result",
          "data": {
            "text/plain": [
              "tuple"
            ]
          },
          "metadata": {
            "tags": []
          },
          "execution_count": 4
        }
      ]
    },
    {
      "cell_type": "code",
      "metadata": {
        "id": "gs_Prmg63lBn",
        "colab": {
          "base_uri": "https://localhost:8080/"
        },
        "outputId": "f838ef99-c16b-4219-d79f-36c69564fdb9"
      },
      "source": [
        "# exemplos das dimensões de uma caixa\n",
        "caixa_sapato = (18, 28, 10)\n",
        "\n",
        "print(caixa_sapato)"
      ],
      "execution_count": null,
      "outputs": [
        {
          "output_type": "stream",
          "text": [
            "(18, 28, 10)\n"
          ],
          "name": "stdout"
        }
      ]
    },
    {
      "cell_type": "markdown",
      "metadata": {
        "id": "fakBYwPhpBH8"
      },
      "source": [
        "Também podemos associar variáveis a cada valor de uma tupla.\n",
        "\n",
        "Além disso, uma tupla pode ter quantos valores forem necessários."
      ]
    },
    {
      "cell_type": "code",
      "metadata": {
        "id": "8QTCwe3X3s02"
      },
      "source": [
        "# latitude e longitude de brasilia\n",
        "brasilia = (-15.77, -47.92)\n",
        "\n",
        "# associando os valores da tupla em variáveis.\n",
        "lat, lon = brasilia"
      ],
      "execution_count": null,
      "outputs": []
    },
    {
      "cell_type": "code",
      "metadata": {
        "id": "eTbFlzZo3-5W",
        "colab": {
          "base_uri": "https://localhost:8080/"
        },
        "outputId": "e8be7746-af9f-4352-bbae-a6fb50c81f44"
      },
      "source": [
        "print(\"Latitude:\", lat)\n",
        "print(\"Longitude:\", lon)\n",
        "\n",
        "print(\"\\n\\n\", brasilia)"
      ],
      "execution_count": null,
      "outputs": [
        {
          "output_type": "stream",
          "text": [
            "Latitude: -15.77\n",
            "Longitude: -47.92\n",
            "\n",
            "\n",
            " (-15.77, -47.92)\n"
          ],
          "name": "stdout"
        }
      ]
    },
    {
      "cell_type": "markdown",
      "metadata": {
        "id": "K7IPoLy_p0zW"
      },
      "source": [
        "### Se tuplas são imutáveis, por que usá-las ao invés de listas?\n",
        "\n",
        "Pode parece estranho criarmos um objeto que não pode ser modificado, mas apesar dessa desvantagem em relação às listas, existem vantagens para o uso das tuplas, como por exemplo:\n",
        "\n",
        "* A execução de um programa é mais rápida ao maniuplar tuplas do que seu equivalente em formato de lista. De qualquer forma, isso não será perceptível caso sejam muito pequenas.\n",
        "* Às vezes nós **não queremos** que os dados sejam modificados. Se uma coleção de valores precisam se manter constantes por todo o ciclo do programa, usar tuplas ao invés de listas proporciona mais segurança contra modificação acidental.\n",
        "* Ao utilizar dicionários, podemos ter dentro deles tuplas, que serão imutáveis, carregando para os dicionários os benefícios do ponto anterior, quando comparamos com as listas."
      ]
    },
    {
      "cell_type": "markdown",
      "metadata": {
        "id": "SDyrNtn-pseJ"
      },
      "source": [
        "Apesar de sua imutabilidade, nós podemos acessá-las e explorá-las.\n",
        "\n",
        "Além disso, tuplas podem conter qualquer tipo de dados, como `int`, `float` e `string`.\n",
        "\n"
      ]
    },
    {
      "cell_type": "code",
      "metadata": {
        "id": "L8Pj0o3C4HO1",
        "colab": {
          "base_uri": "https://localhost:8080/",
          "height": 35
        },
        "outputId": "0142ab84-7cbd-44d3-9769-b1633719ca77"
      },
      "source": [
        "# tupla de strings\n",
        "estados = ('Rio de Janeiro', 'São Paulo', 'Minas Gerais')\n",
        "type(estados)"
      ],
      "execution_count": null,
      "outputs": [
        {
          "output_type": "execute_result",
          "data": {
            "text/plain": [
              "tuple"
            ]
          },
          "metadata": {
            "tags": []
          },
          "execution_count": 15
        }
      ]
    },
    {
      "cell_type": "markdown",
      "metadata": {
        "id": "UzyFxcPGsEjt"
      },
      "source": [
        "Cada item dentro da tupla, possui um índice, que pode ser acessado."
      ]
    },
    {
      "cell_type": "code",
      "metadata": {
        "id": "4vVXgqRxr_Mx",
        "colab": {
          "base_uri": "https://localhost:8080/",
          "height": 54
        },
        "outputId": "cff19828-5953-4f99-f5ff-3ede73fd8a70"
      },
      "source": [
        "# acessando o primeiro item da tupla\n",
        "print(estados[0])\n",
        "\n",
        "# acessando o último item da tupla\n",
        "print(estados[-1])\n"
      ],
      "execution_count": null,
      "outputs": [
        {
          "output_type": "stream",
          "text": [
            "Rio de Janeiro\n",
            "Minas Gerais\n"
          ],
          "name": "stdout"
        }
      ]
    },
    {
      "cell_type": "markdown",
      "metadata": {
        "id": "CRvwbrJysr-U"
      },
      "source": [
        "## Exercícios\n",
        "Apesar de não poderem ser mudados, vamos praticar a criação e o acesso aos valores de uma tupla."
      ]
    },
    {
      "cell_type": "markdown",
      "metadata": {
        "id": "5RChxzFtszz2"
      },
      "source": [
        "### Exercício 1\n",
        "Crie uma tupla com os nomes dos estados da sua região."
      ]
    },
    {
      "cell_type": "code",
      "metadata": {
        "id": "HmBWcCHpsP8i",
        "colab": {
          "base_uri": "https://localhost:8080/"
        },
        "outputId": "7184896c-b82a-4a43-fbdc-75048a84b4cc"
      },
      "source": [
        "# resposta\n",
        "regiao = (\"RS\", \"PR\", \"SC\")\n",
        "print(regiao)"
      ],
      "execution_count": null,
      "outputs": [
        {
          "output_type": "stream",
          "text": [
            "('RS', 'PR', 'SC')\n"
          ],
          "name": "stdout"
        }
      ]
    },
    {
      "cell_type": "code",
      "metadata": {
        "id": "oB5qoxSgspgK",
        "cellView": "form",
        "colab": {
          "base_uri": "https://localhost:8080/"
        },
        "outputId": "664f13fb-c3aa-4af2-fc5d-5d339de1c1da"
      },
      "source": [
        "#@title Solução\n",
        "centro_oeste = ('Distrito Federal', 'Goiás', 'Mato Grosso', 'Mato Grosso do Sul')\n",
        "type(centro_oeste)"
      ],
      "execution_count": null,
      "outputs": [
        {
          "output_type": "execute_result",
          "data": {
            "text/plain": [
              "tuple"
            ]
          },
          "metadata": {
            "tags": []
          },
          "execution_count": 9
        }
      ]
    },
    {
      "cell_type": "markdown",
      "metadata": {
        "id": "gVmmEs_ktodb"
      },
      "source": [
        "### Exercício 2\n",
        "Associe cada estado a uma variável e crie uma nova tupla, utilizando essas variáveis."
      ]
    },
    {
      "cell_type": "code",
      "metadata": {
        "id": "Z6zbisNfuG7m",
        "colab": {
          "base_uri": "https://localhost:8080/"
        },
        "outputId": "7fd87e56-ef56-4a95-f604-5ee7b97d614f"
      },
      "source": [
        "# resposta\n",
        "riogrande = regiao[0]\n",
        "parana = regiao[1]\n",
        "santacatarina = regiao[2]\n",
        "print(riogrande, parana, santacatarina)"
      ],
      "execution_count": null,
      "outputs": [
        {
          "output_type": "stream",
          "text": [
            "RS PR SC\n"
          ],
          "name": "stdout"
        }
      ]
    },
    {
      "cell_type": "code",
      "metadata": {
        "id": "ZZm7nzwWtk4D",
        "cellView": "form"
      },
      "source": [
        "#@title Solução\n",
        "centro_oeste = ('Distrito Federal', 'Goiás', 'Mato Grosso', 'Mato Grosso do Sul')\n",
        "df = centro_oeste[0]\n",
        "go = centro_oeste[1]\n",
        "mt = centro_oeste[2]\n",
        "ms = centro_oeste[3]\n",
        "co = (df,go,mt,ms)\n",
        "print(type(co))\n",
        "print(co)"
      ],
      "execution_count": null,
      "outputs": []
    },
    {
      "cell_type": "markdown",
      "metadata": {
        "id": "rhrPY7pquKXp"
      },
      "source": [
        "### Exercício 3\n",
        "Utilizando as tuplas criadas anteriormente, faça o que se pede em cada célula."
      ]
    },
    {
      "cell_type": "code",
      "metadata": {
        "id": "IT5iIPaNuAbz",
        "colab": {
          "base_uri": "https://localhost:8080/"
        },
        "outputId": "6052ab4a-3c0f-4ee9-dafb-c9f10bea9782"
      },
      "source": [
        "# imprima o último item da tupla\n",
        "print(regiao[-1])"
      ],
      "execution_count": null,
      "outputs": [
        {
          "output_type": "stream",
          "text": [
            "SC\n"
          ],
          "name": "stdout"
        }
      ]
    },
    {
      "cell_type": "code",
      "metadata": {
        "id": "k6kP4ExxucSv",
        "colab": {
          "base_uri": "https://localhost:8080/"
        },
        "outputId": "f927a4a6-d948-4651-d2ca-126471714332"
      },
      "source": [
        "# imprima o item que se encontra no meio da tupla\n",
        "print(regiao[1])"
      ],
      "execution_count": null,
      "outputs": [
        {
          "output_type": "stream",
          "text": [
            "PR\n"
          ],
          "name": "stdout"
        }
      ]
    },
    {
      "cell_type": "code",
      "metadata": {
        "id": "srcEJN-Uubml",
        "colab": {
          "base_uri": "https://localhost:8080/"
        },
        "outputId": "2195c12c-6f8b-4309-eb15-d326d711ca85"
      },
      "source": [
        "# imprima os itens da tupla, pulando um\n",
        "for i in range(len(regiao)):\n",
        "  print(regiao[i])"
      ],
      "execution_count": null,
      "outputs": [
        {
          "output_type": "stream",
          "text": [
            "RS\n",
            "PR\n",
            "SC\n"
          ],
          "name": "stdout"
        }
      ]
    },
    {
      "cell_type": "code",
      "metadata": {
        "id": "CH2dRz7ouRxw",
        "cellView": "form",
        "colab": {
          "base_uri": "https://localhost:8080/",
          "height": 231
        },
        "outputId": "5c652596-21fe-494f-a245-b125c92ca486"
      },
      "source": [
        "#@title Solução\n",
        "# último\n",
        "print(co[-1])\n",
        "\n",
        "# meio\n",
        "print(co[2])\n",
        "\n",
        "# itens pulando um\n",
        "print(co[::2])"
      ],
      "execution_count": null,
      "outputs": [
        {
          "output_type": "error",
          "ename": "NameError",
          "evalue": "ignored",
          "traceback": [
            "\u001b[0;31m---------------------------------------------------------------------------\u001b[0m",
            "\u001b[0;31mNameError\u001b[0m                                 Traceback (most recent call last)",
            "\u001b[0;32m<ipython-input-18-d76c9b4d7db4>\u001b[0m in \u001b[0;36m<module>\u001b[0;34m()\u001b[0m\n\u001b[1;32m      1\u001b[0m \u001b[0;31m#@title Solução\u001b[0m\u001b[0;34m\u001b[0m\u001b[0;34m\u001b[0m\u001b[0;34m\u001b[0m\u001b[0m\n\u001b[1;32m      2\u001b[0m \u001b[0;31m# último\u001b[0m\u001b[0;34m\u001b[0m\u001b[0;34m\u001b[0m\u001b[0;34m\u001b[0m\u001b[0m\n\u001b[0;32m----> 3\u001b[0;31m \u001b[0mprint\u001b[0m\u001b[0;34m(\u001b[0m\u001b[0mco\u001b[0m\u001b[0;34m[\u001b[0m\u001b[0;34m-\u001b[0m\u001b[0;36m1\u001b[0m\u001b[0;34m]\u001b[0m\u001b[0;34m)\u001b[0m\u001b[0;34m\u001b[0m\u001b[0;34m\u001b[0m\u001b[0m\n\u001b[0m\u001b[1;32m      4\u001b[0m \u001b[0;34m\u001b[0m\u001b[0m\n\u001b[1;32m      5\u001b[0m \u001b[0;31m# meio\u001b[0m\u001b[0;34m\u001b[0m\u001b[0;34m\u001b[0m\u001b[0;34m\u001b[0m\u001b[0m\n",
            "\u001b[0;31mNameError\u001b[0m: name 'co' is not defined"
          ]
        }
      ]
    }
  ]
}